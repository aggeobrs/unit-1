{
  "nbformat": 4,
  "nbformat_minor": 0,
  "metadata": {
    "colab": {
      "name": "Session 2",
      "provenance": []
    },
    "kernelspec": {
      "name": "python3",
      "display_name": "Python 3"
    },
    "language_info": {
      "name": "python"
    }
  },
  "cells": [
    {
      "cell_type": "markdown",
      "metadata": {
        "id": "H0yotmI_xub_"
      },
      "source": [
        "**Exercise 4**"
      ]
    },
    {
      "cell_type": "code",
      "metadata": {
        "colab": {
          "base_uri": "https://localhost:8080/"
        },
        "id": "JPdFjhhZ06yR",
        "outputId": "d9358ee5-246f-442d-bc2c-59999339049d"
      },
      "source": [
        "temp = int(input(\"Enter the temperature in F \"))\n",
        "temp_in_C = (temp - 32)*5/9 #converting the temperature\n",
        "print(\"The temperature in C is: \",temp_in_C) #printing the result"
      ],
      "execution_count": null,
      "outputs": [
        {
          "output_type": "stream",
          "text": [
            "Enter the temperature in F 32\n",
            "The temperature in C is:  0.0\n"
          ],
          "name": "stdout"
        }
      ]
    },
    {
      "cell_type": "markdown",
      "metadata": {
        "id": "Y5CQWhtrdIhX"
      },
      "source": [
        "**Exercise 6**"
      ]
    },
    {
      "cell_type": "code",
      "metadata": {
        "colab": {
          "base_uri": "https://localhost:8080/"
        },
        "id": "QaRcPNjNdPda",
        "outputId": "dd4803fc-6b06-4a84-fb5d-8510efc34c62"
      },
      "source": [
        "a = int(input())\n",
        "b = int(input())\n",
        "c = int(input())\n",
        "D = b**2 - 4*a*c\n",
        "if D > 0:\n",
        "  x1 = (-b + sqrt(D))/2*a\n",
        "  X2 = (-b - sqrt(D))/2*a\n",
        "  print(x1,x2)\n",
        "elif D==0:\n",
        "  x = (-b)/2*a\n",
        "  print(x)\n",
        "else:\n",
        "  print(\"Nope\")\n",
        "\n"
      ],
      "execution_count": 2,
      "outputs": [
        {
          "output_type": "stream",
          "text": [
            "1\n",
            "2\n",
            "1\n",
            "-1.0\n"
          ],
          "name": "stdout"
        }
      ]
    },
    {
      "cell_type": "markdown",
      "metadata": {
        "id": "yEBb4IeNkpcd"
      },
      "source": [
        "**Exercise 8**\n"
      ]
    },
    {
      "cell_type": "code",
      "metadata": {
        "colab": {
          "base_uri": "https://localhost:8080/"
        },
        "id": "4IXmC1wCkzaS",
        "outputId": "7e93922b-4549-4b6e-d8ed-efc0bb0f73f1"
      },
      "source": [
        "name = input()\n",
        "age = int(input())\n",
        "nation = input()\n",
        "print(f\"Welcome {name} you are {age} years old and a national of {nation}\")"
      ],
      "execution_count": 1,
      "outputs": [
        {
          "output_type": "stream",
          "text": [
            "Angelos\n",
            "16\n",
            "Greece\n",
            "Welcome Angelos you are 16 years old and a national of Greece\n"
          ],
          "name": "stdout"
        }
      ]
    },
    {
      "cell_type": "markdown",
      "metadata": {
        "id": "ewunNb__mA4K"
      },
      "source": [
        "**Exercise 9**"
      ]
    },
    {
      "cell_type": "code",
      "metadata": {
        "colab": {
          "base_uri": "https://localhost:8080/"
        },
        "id": "Yr4RM6HXl-_b",
        "outputId": "386ea090-e4b6-4e9b-8225-61d9158ede8e"
      },
      "source": [
        "#kg to lbs\n",
        "kg = int(input())\n",
        "lbs = 2.2*kg\n",
        "print(lbs)"
      ],
      "execution_count": null,
      "outputs": [
        {
          "output_type": "stream",
          "text": [
            "10\n",
            "22.0\n"
          ],
          "name": "stdout"
        }
      ]
    }
  ]
}