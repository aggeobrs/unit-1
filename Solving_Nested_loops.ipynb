{
  "nbformat": 4,
  "nbformat_minor": 0,
  "metadata": {
    "colab": {
      "name": "Solving Nested loops",
      "provenance": []
    },
    "kernelspec": {
      "name": "python3",
      "display_name": "Python 3"
    },
    "language_info": {
      "name": "python"
    }
  },
  "cells": [
    {
      "cell_type": "markdown",
      "metadata": {
        "id": "YND5H31kHx-f"
      },
      "source": [
        "**Receive a number and print all the multiplication up to the number 10**"
      ]
    },
    {
      "cell_type": "code",
      "metadata": {
        "id": "9U9OJnNoHfcE"
      },
      "source": [
        "#receive a number\n",
        "number=int(input(\"Enter a number: \"))\n",
        "for i in range(1,11):\n",
        "    print(f'{i} x {number} = {i*number}')"
      ],
      "execution_count": null,
      "outputs": []
    }
  ]
}