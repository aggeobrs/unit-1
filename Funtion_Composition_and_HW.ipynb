{
  "nbformat": 4,
  "nbformat_minor": 0,
  "metadata": {
    "colab": {
      "name": " Funtion Composition and HW",
      "provenance": []
    },
    "kernelspec": {
      "name": "python3",
      "display_name": "Python 3"
    },
    "language_info": {
      "name": "python"
    }
  },
  "cells": [
    {
      "cell_type": "code",
      "metadata": {
        "id": "jYMM9VJrJ1YF"
      },
      "source": [
        "def strange_add(a,b):\n",
        "  return a+b"
      ],
      "execution_count": 11,
      "outputs": []
    },
    {
      "cell_type": "code",
      "metadata": {
        "id": "e_LQ2E2jHBxX"
      },
      "source": [
        "def black_box(a,b):\n",
        "  if a>b:\n",
        "    return b\n",
        "  else: \n",
        "    return a\n"
      ],
      "execution_count": 2,
      "outputs": []
    },
    {
      "cell_type": "code",
      "metadata": {
        "id": "-tuQC_0_Hg10"
      },
      "source": [
        "def strange_box(a):\n",
        "  if a>24 or a<1:\n",
        "    return \"?\"\n",
        "  else:\n",
        "   return chr(a+64)"
      ],
      "execution_count": 29,
      "outputs": []
    },
    {
      "cell_type": "code",
      "metadata": {
        "colab": {
          "base_uri": "https://localhost:8080/",
          "height": 35
        },
        "id": "SDbiiIdcJy7i",
        "outputId": "944af189-ec4e-4f15-965f-1cbb932b6aff"
      },
      "source": [
        "black_box(str(strange_box(int(strange_add(5,11)))),str(strange_box(int(strange_add(10,2)))))"
      ],
      "execution_count": 30,
      "outputs": [
        {
          "output_type": "execute_result",
          "data": {
            "application/vnd.google.colaboratory.intrinsic+json": {
              "type": "string"
            },
            "text/plain": [
              "'L'"
            ]
          },
          "metadata": {},
          "execution_count": 30
        }
      ]
    }
  ]
}